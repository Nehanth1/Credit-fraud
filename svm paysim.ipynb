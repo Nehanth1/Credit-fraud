{
 "cells": [
  {
   "cell_type": "code",
   "execution_count": 1,
   "id": "bf9a07c6",
   "metadata": {},
   "outputs": [],
   "source": [
    "import pandas as pd\n",
    "import numpy as np\n",
    "import matplotlib.pyplot as plt\n",
    "import seaborn as sns\n",
    "from sklearn import metrics\n",
    "from collections import Counter\n",
    "from sklearn.model_selection import train_test_split\n",
    "from sklearn import svm\n",
    "from sklearn.svm import SVC\n",
    "from sklearn.metrics import classification_report, confusion_matrix\n",
    "from sklearn.model_selection import cross_val_score"
   ]
  },
  {
   "cell_type": "code",
   "execution_count": 2,
   "id": "07958951",
   "metadata": {},
   "outputs": [
    {
     "name": "stdout",
     "output_type": "stream",
     "text": [
      "   step      type    amount  oldbalanceOrg  newbalanceOrig  oldbalanceDest  \\\n",
      "0     1   PAYMENT   9839.64       170136.0       160296.36             0.0   \n",
      "1     1   PAYMENT   1864.28        21249.0        19384.72             0.0   \n",
      "2     1  TRANSFER    181.00          181.0            0.00             0.0   \n",
      "3     1  CASH_OUT    181.00          181.0            0.00         21182.0   \n",
      "4     1   PAYMENT  11668.14        41554.0        29885.86             0.0   \n",
      "\n",
      "   newbalanceDest  isFraud  \n",
      "0             0.0        0  \n",
      "1             0.0        0  \n",
      "2             0.0        1  \n",
      "3             0.0        1  \n",
      "4             0.0        0  \n"
     ]
    }
   ],
   "source": [
    " "
   ]
  },
  {
   "cell_type": "code",
   "execution_count": 3,
   "id": "31af1900",
   "metadata": {},
   "outputs": [
    {
     "data": {
      "text/plain": [
       "step              0\n",
       "type              0\n",
       "amount            0\n",
       "oldbalanceOrg     0\n",
       "newbalanceOrig    0\n",
       "oldbalanceDest    0\n",
       "newbalanceDest    0\n",
       "isFraud           0\n",
       "dtype: int64"
      ]
     },
     "execution_count": 3,
     "metadata": {},
     "output_type": "execute_result"
    }
   ],
   "source": [
    "df.isnull().sum()"
   ]
  },
  {
   "cell_type": "code",
   "execution_count": 4,
   "id": "e99da2ac",
   "metadata": {},
   "outputs": [
    {
     "name": "stdout",
     "output_type": "stream",
     "text": [
      "   oldbalanceDest  newbalanceDest\n",
      "0             0.0             0.0\n",
      "1             0.0             0.0\n",
      "2             0.0             0.0\n",
      "3         21182.0             0.0\n",
      "4             0.0             0.0\n",
      "   isFraud\n",
      "0        0\n",
      "1        0\n",
      "2        1\n",
      "3        1\n",
      "4        0\n"
     ]
    }
   ],
   "source": [
    "dfInput = df.iloc[:,[5,6]]\n",
    "dfOutput = df.iloc[:,[7]]\n",
    "print(dfInput.head())\n",
    "print(dfOutput.head())"
   ]
  },
  {
   "cell_type": "code",
   "execution_count": null,
   "id": "5731e9ef",
   "metadata": {},
   "outputs": [
    {
     "name": "stderr",
     "output_type": "stream",
     "text": [
      "C:\\Users\\Nehanth\\anaconda3\\lib\\site-packages\\sklearn\\utils\\validation.py:63: DataConversionWarning: A column-vector y was passed when a 1d array was expected. Please change the shape of y to (n_samples, ), for example using ravel().\n",
      "  return f(*args, **kwargs)\n"
     ]
    }
   ],
   "source": [
    "model = SVC(kernel='linear', random_state=42)\n",
    "model.fit(dfInput,dfOutput)\n",
    "pred = model.predict(dfInput)\n",
    "print(classification_report(dfOutput)) "
   ]
  },
  {
   "cell_type": "code",
   "execution_count": null,
   "id": "438d69ef",
   "metadata": {},
   "outputs": [],
   "source": [
    "   "
   ]
  }
 ],
 "metadata": {
  "kernelspec": {
   "display_name": "Python 3",
   "language": "python",
   "name": "python3"
  },
  "language_info": {
   "codemirror_mode": {
    "name": "ipython",
    "version": 3
   },
   "file_extension": ".py",
   "mimetype": "text/x-python",
   "name": "python",
   "nbconvert_exporter": "python",
   "pygments_lexer": "ipython3",
   "version": "3.8.8"
  }
 },
 "nbformat": 4,
 "nbformat_minor": 5
}
